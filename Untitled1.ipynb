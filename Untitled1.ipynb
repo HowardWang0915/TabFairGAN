{
 "cells": [
  {
   "cell_type": "code",
   "execution_count": 2,
   "metadata": {},
   "outputs": [],
   "source": [
    "import torch"
   ]
  },
  {
   "cell_type": "code",
   "execution_count": 58,
   "metadata": {},
   "outputs": [],
   "source": [
    "def pairwise_distances(x):\n",
    "    #x should be two dimensional\n",
    "    instances_norm = torch.sum(x**2,-1).reshape((-1,1))\n",
    "    return -2*torch.mm(x,x.t()) + instances_norm + instances_norm.t()\n",
    "\n",
    "def GaussianKernelMatrix(x, sigma=1):\n",
    "    if sigma == 0:\n",
    "        sigma = 0.0001\n",
    "    pairwise_distances_ = pairwise_distances(x)\n",
    "    return torch.exp(-pairwise_distances_ /sigma)\n",
    "\n",
    "def HSIC(X, Y):\n",
    "    n = X.shape[0]\n",
    "    Xmed = X\n",
    "    G = torch.sum(Xmed*Xmed, 1).reshape(n,1)\n",
    "    Q = torch.tile(G, (1,n))\n",
    "    R = torch.tile(G.T, (n,1))\n",
    "    \n",
    "    dists = Q + R - 2*torch.matmul(Xmed, Xmed.T)\n",
    "    dists = dists - torch.tril(dists)\n",
    "    dists = dists.reshape(n**2, 1)\n",
    "    \n",
    "    s_x = torch.sqrt( 0.5 * torch.median(dists[dists>0]) )\n",
    "    \n",
    "    n = Y.shape[0]\n",
    "    Ymed = Y\n",
    "    G = torch.sum(Ymed*Ymed, 1).reshape(n,1)\n",
    "    Q = torch.tile(G, (1,n))\n",
    "    R = torch.tile(G.T, (n,1))\n",
    "    \n",
    "    dists = Q + R - 2*torch.matmul(Ymed, Ymed.T)\n",
    "    dists = dists - torch.tril(dists)\n",
    "    dists = dists.reshape(n**2, 1)\n",
    "    \n",
    "    if dists[dists<0].nelement() == 0:\n",
    "        print(\"kir\")\n",
    "    s_y = torch.sqrt( 0.5 * torch.median(dists[dists>0]) )\n",
    "    #print(s_y)\n",
    "    \n",
    "    m,_ = X.shape #batch size\n",
    "    K = GaussianKernelMatrix(X,s_x)\n",
    "    L = GaussianKernelMatrix(Y,s_y)\n",
    "    H = torch.eye(m) - 1.0/m * torch.ones((m,m))\n",
    "    #H = H.float().cuda()\n",
    "    H = H.float()\n",
    "    HSIC = torch.trace(torch.mm(L,torch.mm(H,torch.mm(K,H))))/((m-1)**2)\n",
    "    return HSIC"
   ]
  },
  {
   "cell_type": "code",
   "execution_count": 59,
   "metadata": {},
   "outputs": [],
   "source": [
    "X = torch.tensor([1.0,2.0,2.5]).reshape(3,1)\n",
    "Y = torch.tensor([0.8,0.9,1.5]).reshape(3,1)"
   ]
  },
  {
   "cell_type": "code",
   "execution_count": 60,
   "metadata": {},
   "outputs": [
    {
     "name": "stdout",
     "output_type": "stream",
     "text": [
      "kir\n"
     ]
    },
    {
     "data": {
      "text/plain": [
       "tensor(0.1383)"
      ]
     },
     "execution_count": 60,
     "metadata": {},
     "output_type": "execute_result"
    }
   ],
   "source": [
    "HSIC(X,Y)"
   ]
  },
  {
   "cell_type": "code",
   "execution_count": null,
   "metadata": {},
   "outputs": [],
   "source": []
  },
  {
   "cell_type": "code",
   "execution_count": 24,
   "metadata": {},
   "outputs": [],
   "source": []
  },
  {
   "cell_type": "code",
   "execution_count": 25,
   "metadata": {},
   "outputs": [
    {
     "data": {
      "text/plain": [
       "torch.Size([3, 1])"
      ]
     },
     "execution_count": 25,
     "metadata": {},
     "output_type": "execute_result"
    }
   ],
   "source": [
    "X.shape"
   ]
  },
  {
   "cell_type": "code",
   "execution_count": 26,
   "metadata": {},
   "outputs": [
    {
     "name": "stdout",
     "output_type": "stream",
     "text": [
      "tensor(0.4243)\n"
     ]
    },
    {
     "data": {
      "text/plain": [
       "tensor(0.1383)"
      ]
     },
     "execution_count": 26,
     "metadata": {},
     "output_type": "execute_result"
    }
   ],
   "source": []
  },
  {
   "cell_type": "code",
   "execution_count": null,
   "metadata": {},
   "outputs": [],
   "source": []
  }
 ],
 "metadata": {
  "kernelspec": {
   "display_name": "Python 3 (ipykernel)",
   "language": "python",
   "name": "python3"
  },
  "language_info": {
   "codemirror_mode": {
    "name": "ipython",
    "version": 3
   },
   "file_extension": ".py",
   "mimetype": "text/x-python",
   "name": "python",
   "nbconvert_exporter": "python",
   "pygments_lexer": "ipython3",
   "version": "3.9.7"
  }
 },
 "nbformat": 4,
 "nbformat_minor": 4
}
